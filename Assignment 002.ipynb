{
 "cells": [
  {
   "cell_type": "code",
   "execution_count": 1,
   "id": "5940eb6e",
   "metadata": {},
   "outputs": [],
   "source": [
    "import pandas as pd\n",
    "import requests\n",
    "from bs4 import BeautifulSoup\n",
    "import csv"
   ]
  },
  {
   "cell_type": "code",
   "execution_count": 2,
   "id": "bb005462",
   "metadata": {},
   "outputs": [],
   "source": [
    "url='https://www.flipkart.com/search?q=iphone+&otracker=search&otracker1=search&marketplace=FLIPKART&as-show=on&as=off&as-pos=1&as-type=HISTORY'"
   ]
  },
  {
   "cell_type": "code",
   "execution_count": 3,
   "id": "f836ee9b",
   "metadata": {},
   "outputs": [],
   "source": [
    "response=requests.get(url)"
   ]
  },
  {
   "cell_type": "code",
   "execution_count": 4,
   "id": "74014cc9",
   "metadata": {},
   "outputs": [
    {
     "data": {
      "text/plain": [
       "<Response [200]>"
      ]
     },
     "execution_count": 4,
     "metadata": {},
     "output_type": "execute_result"
    }
   ],
   "source": [
    "response"
   ]
  },
  {
   "cell_type": "code",
   "execution_count": 5,
   "id": "383cf7e7",
   "metadata": {},
   "outputs": [],
   "source": [
    "soup=BeautifulSoup(response.content,'html.parser')"
   ]
  },
  {
   "cell_type": "code",
   "execution_count": 7,
   "id": "65338d00",
   "metadata": {},
   "outputs": [],
   "source": [
    "products=[]\n",
    "prices=[]\n",
    "ratings=[]\n",
    "descriptions=[]"
   ]
  },
  {
   "cell_type": "code",
   "execution_count": 9,
   "id": "d18eb69b",
   "metadata": {},
   "outputs": [],
   "source": [
    "for a in soup.findAll('a',href=True,attrs={'class':'_1fQZEK'}):\n",
    "    name=a.find('div',attrs={'class':'_4rR01T'})\n",
    "    price=a.find('div',attrs={'class':'_30jeq3 _1_WHN1'})\n",
    "    rating=a.find('div',attrs={'class':'_3LWZlK'})\n",
    "    description=a.find('div',attrs={'class':'fMghEO'})\n",
    "    products.append(name.text)\n",
    "    prices.append(price.text)\n",
    "    ratings.append(rating.text)\n",
    "    descriptions.append(description.text)"
   ]
  },
  {
   "cell_type": "code",
   "execution_count": 11,
   "id": "e82933f4",
   "metadata": {},
   "outputs": [
    {
     "data": {
      "text/html": [
       "<div>\n",
       "<style scoped>\n",
       "    .dataframe tbody tr th:only-of-type {\n",
       "        vertical-align: middle;\n",
       "    }\n",
       "\n",
       "    .dataframe tbody tr th {\n",
       "        vertical-align: top;\n",
       "    }\n",
       "\n",
       "    .dataframe thead th {\n",
       "        text-align: right;\n",
       "    }\n",
       "</style>\n",
       "<table border=\"1\" class=\"dataframe\">\n",
       "  <thead>\n",
       "    <tr style=\"text-align: right;\">\n",
       "      <th></th>\n",
       "      <th>Product_Name</th>\n",
       "      <th>Description</th>\n",
       "      <th>Prices</th>\n",
       "      <th>ratings</th>\n",
       "    </tr>\n",
       "  </thead>\n",
       "  <tbody>\n",
       "    <tr>\n",
       "      <th>0</th>\n",
       "      <td>APPLE iPhone 12 (Black, 128 GB)</td>\n",
       "      <td>128 GB ROM15.49 cm (6.1 inch) Super Retina XDR...</td>\n",
       "      <td>₹59,990</td>\n",
       "      <td>4.6</td>\n",
       "    </tr>\n",
       "    <tr>\n",
       "      <th>1</th>\n",
       "      <td>APPLE iPhone 11 (White, 64 GB)</td>\n",
       "      <td>64 GB ROM15.49 cm (6.1 inch) Liquid Retina HD ...</td>\n",
       "      <td>₹39,999</td>\n",
       "      <td>4.6</td>\n",
       "    </tr>\n",
       "    <tr>\n",
       "      <th>2</th>\n",
       "      <td>APPLE iPhone 12 (White, 64 GB)</td>\n",
       "      <td>64 GB ROM15.49 cm (6.1 inch) Super Retina XDR ...</td>\n",
       "      <td>₹53,990</td>\n",
       "      <td>4.6</td>\n",
       "    </tr>\n",
       "    <tr>\n",
       "      <th>3</th>\n",
       "      <td>APPLE iPhone 11 (Black, 128 GB)</td>\n",
       "      <td>128 GB ROM15.49 cm (6.1 inch) Liquid Retina HD...</td>\n",
       "      <td>₹44,999</td>\n",
       "      <td>4.6</td>\n",
       "    </tr>\n",
       "    <tr>\n",
       "      <th>4</th>\n",
       "      <td>APPLE iPhone 11 (Black, 64 GB)</td>\n",
       "      <td>64 GB ROM15.49 cm (6.1 inch) Liquid Retina HD ...</td>\n",
       "      <td>₹39,999</td>\n",
       "      <td>4.6</td>\n",
       "    </tr>\n",
       "  </tbody>\n",
       "</table>\n",
       "</div>"
      ],
      "text/plain": [
       "                      Product_Name  \\\n",
       "0  APPLE iPhone 12 (Black, 128 GB)   \n",
       "1   APPLE iPhone 11 (White, 64 GB)   \n",
       "2   APPLE iPhone 12 (White, 64 GB)   \n",
       "3  APPLE iPhone 11 (Black, 128 GB)   \n",
       "4   APPLE iPhone 11 (Black, 64 GB)   \n",
       "\n",
       "                                         Description   Prices ratings  \n",
       "0  128 GB ROM15.49 cm (6.1 inch) Super Retina XDR...  ₹59,990     4.6  \n",
       "1  64 GB ROM15.49 cm (6.1 inch) Liquid Retina HD ...  ₹39,999     4.6  \n",
       "2  64 GB ROM15.49 cm (6.1 inch) Super Retina XDR ...  ₹53,990     4.6  \n",
       "3  128 GB ROM15.49 cm (6.1 inch) Liquid Retina HD...  ₹44,999     4.6  \n",
       "4  64 GB ROM15.49 cm (6.1 inch) Liquid Retina HD ...  ₹39,999     4.6  "
      ]
     },
     "execution_count": 11,
     "metadata": {},
     "output_type": "execute_result"
    }
   ],
   "source": [
    "df=pd.DataFrame({\n",
    "    \"Product_Name\":products,\"Description\":descriptions,\"Prices\":prices,\"ratings\":ratings\n",
    "    \n",
    "})\n",
    "df.head()"
   ]
  },
  {
   "cell_type": "code",
   "execution_count": 12,
   "id": "78071fc6",
   "metadata": {},
   "outputs": [],
   "source": [
    "df.to_csv('products.csv')\n",
    "df.to_csv('C:/Users/dell/Desktop/Session 4/Assignment002.csv')"
   ]
  },
  {
   "cell_type": "code",
   "execution_count": null,
   "id": "0014ba5b",
   "metadata": {},
   "outputs": [],
   "source": []
  }
 ],
 "metadata": {
  "kernelspec": {
   "display_name": "Python 3 (ipykernel)",
   "language": "python",
   "name": "python3"
  },
  "language_info": {
   "codemirror_mode": {
    "name": "ipython",
    "version": 3
   },
   "file_extension": ".py",
   "mimetype": "text/x-python",
   "name": "python",
   "nbconvert_exporter": "python",
   "pygments_lexer": "ipython3",
   "version": "3.9.7"
  }
 },
 "nbformat": 4,
 "nbformat_minor": 5
}
